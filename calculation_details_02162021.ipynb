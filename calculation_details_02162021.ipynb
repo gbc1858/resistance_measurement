{
 "cells": [
  {
   "cell_type": "markdown",
   "id": "interior-testament",
   "metadata": {},
   "source": [
    "## Cu"
   ]
  },
  {
   "cell_type": "code",
   "execution_count": 4,
   "id": "proprietary-screening",
   "metadata": {},
   "outputs": [],
   "source": [
    "rho_Cu293K = 1.676*10**(-6   #ohm-cm"
   ]
  },
  {
   "cell_type": "code",
   "execution_count": 10,
   "id": "processed-liquid",
   "metadata": {},
   "outputs": [
    {
     "data": {
      "text/plain": [
       "0.00018325690021231425"
      ]
     },
     "execution_count": 10,
     "metadata": {},
     "output_type": "execute_result"
    }
   ],
   "source": [
    "1.676*10**(-6)*10.3/0.1/0.942   # R_Cu_theory"
   ]
  },
  {
   "cell_type": "markdown",
   "id": "independent-middle",
   "metadata": {},
   "source": [
    "## Nb resistivities"
   ]
  },
  {
   "cell_type": "code",
   "execution_count": 12,
   "id": "simplified-aurora",
   "metadata": {},
   "outputs": [],
   "source": [
    "rho_Nb295K = 14.5*10**(-6)"
   ]
  },
  {
   "cell_type": "code",
   "execution_count": 13,
   "id": "elect-demonstration",
   "metadata": {},
   "outputs": [],
   "source": [
    "rho_Nb75K = 3.8*10**(-6)"
   ]
  },
  {
   "cell_type": "markdown",
   "id": "coordinate-action",
   "metadata": {},
   "source": [
    "## HHC003"
   ]
  },
  {
   "cell_type": "code",
   "execution_count": 18,
   "id": "returning-component",
   "metadata": {},
   "outputs": [],
   "source": [
    "W_HHC003=3.22   # mm"
   ]
  },
  {
   "cell_type": "code",
   "execution_count": 19,
   "id": "naughty-telling",
   "metadata": {},
   "outputs": [],
   "source": [
    "L_HHC003=102.53"
   ]
  },
  {
   "cell_type": "code",
   "execution_count": 20,
   "id": "sudden-regard",
   "metadata": {},
   "outputs": [],
   "source": [
    "H_HHC003=0.76"
   ]
  },
  {
   "cell_type": "code",
   "execution_count": 25,
   "id": "deadly-theater",
   "metadata": {},
   "outputs": [
    {
     "data": {
      "text/plain": [
       "6.075044949329847"
      ]
     },
     "execution_count": 25,
     "metadata": {},
     "output_type": "execute_result"
    }
   ],
   "source": [
    "rho_Nb295K*L_HHC003*0.1/(W_HHC003*0.01*H_HHC003) * 1000  \n",
    "# R_HHC003_theory @room temp"
   ]
  },
  {
   "cell_type": "code",
   "execution_count": 26,
   "id": "several-clause",
   "metadata": {},
   "outputs": [
    {
     "data": {
      "text/plain": [
       "1.5920807453416148"
      ]
     },
     "execution_count": 26,
     "metadata": {},
     "output_type": "execute_result"
    }
   ],
   "source": [
    "rho_Nb75K*L_HHC003*0.1/(W_HHC003*0.01*H_HHC003) * 1000  \n",
    "# R_HHC003_theory @liquid N2"
   ]
  },
  {
   "cell_type": "code",
   "execution_count": 28,
   "id": "impossible-universal",
   "metadata": {},
   "outputs": [
    {
     "data": {
      "text/plain": [
       "1.5943914951721446e-05"
      ]
     },
     "execution_count": 28,
     "metadata": {},
     "output_type": "execute_result"
    }
   ],
   "source": [
    "6.68*10**(-3)*(W_HHC003*0.01*H_HHC003)/(L_HHC003*0.1)   \n",
    "# calculated resistivity of Nb_HHC003 at room temp"
   ]
  },
  {
   "cell_type": "markdown",
   "id": "opposed-commonwealth",
   "metadata": {},
   "source": [
    "## Unknown_slug_1 No.1"
   ]
  },
  {
   "cell_type": "code",
   "execution_count": 43,
   "id": "brilliant-factory",
   "metadata": {},
   "outputs": [],
   "source": [
    "W_slug_1_1=3.5   # mm"
   ]
  },
  {
   "cell_type": "code",
   "execution_count": 44,
   "id": "blocked-wildlife",
   "metadata": {},
   "outputs": [],
   "source": [
    "L_slug_1_1=52.41"
   ]
  },
  {
   "cell_type": "code",
   "execution_count": 45,
   "id": "congressional-nursery",
   "metadata": {},
   "outputs": [],
   "source": [
    "H_slug_1_1=.27"
   ]
  },
  {
   "cell_type": "code",
   "execution_count": 46,
   "id": "complicated-slovakia",
   "metadata": {},
   "outputs": [
    {
     "data": {
      "text/plain": [
       "8.04174603174603"
      ]
     },
     "execution_count": 46,
     "metadata": {},
     "output_type": "execute_result"
    }
   ],
   "source": [
    "rho_Nb295K*L_slug_1_1*0.1/(W_slug_1_1*0.01*H_slug_1_1) * 1000  \n",
    "# R_unknown_slug1_1_theory @room temp"
   ]
  },
  {
   "cell_type": "code",
   "execution_count": 47,
   "id": "residential-alpha",
   "metadata": {},
   "outputs": [
    {
     "data": {
      "text/plain": [
       "2.107492063492063"
      ]
     },
     "execution_count": 47,
     "metadata": {},
     "output_type": "execute_result"
    }
   ],
   "source": [
    "rho_Nb75K*L_slug_1_1*0.1/(W_slug_1_1*0.01*H_slug_1_1) * 1000  \n",
    "# R_unknown_slug1_1_theory @liquid N2"
   ]
  },
  {
   "cell_type": "code",
   "execution_count": 48,
   "id": "explicit-iraqi",
   "metadata": {},
   "outputs": [
    {
     "data": {
      "text/plain": [
       "2.1006010303377223e-05"
      ]
     },
     "execution_count": 48,
     "metadata": {},
     "output_type": "execute_result"
    }
   ],
   "source": [
    "11.65*10**(-3)*(W_slug_1_1*0.01*H_slug_1_1)/(L_slug_1_1*0.1)   \n",
    "# calculated resistivity of Nb_unknown_slug1_1 at room temp"
   ]
  },
  {
   "cell_type": "markdown",
   "id": "operating-romantic",
   "metadata": {},
   "source": [
    "## Unknown_slug_1 No.2"
   ]
  },
  {
   "cell_type": "code",
   "execution_count": 49,
   "id": "super-custody",
   "metadata": {},
   "outputs": [],
   "source": [
    "W_slug_1_2=3.65   # mm"
   ]
  },
  {
   "cell_type": "code",
   "execution_count": 50,
   "id": "signed-samuel",
   "metadata": {},
   "outputs": [],
   "source": [
    "L_slug_1_2=53.5"
   ]
  },
  {
   "cell_type": "code",
   "execution_count": 51,
   "id": "everyday-spain",
   "metadata": {},
   "outputs": [],
   "source": [
    "H_slug_1_2=0.25"
   ]
  },
  {
   "cell_type": "code",
   "execution_count": 52,
   "id": "talented-alarm",
   "metadata": {},
   "outputs": [
    {
     "data": {
      "text/plain": [
       "8.501369863013698"
      ]
     },
     "execution_count": 52,
     "metadata": {},
     "output_type": "execute_result"
    }
   ],
   "source": [
    "rho_Nb295K*L_slug_1_2*0.1/(W_slug_1_2*0.01*H_slug_1_2) * 1000  \n",
    "# R_unknown_slug1_2_theory @room temp"
   ]
  },
  {
   "cell_type": "code",
   "execution_count": 54,
   "id": "dominican-effort",
   "metadata": {},
   "outputs": [
    {
     "data": {
      "text/plain": [
       "2.227945205479452"
      ]
     },
     "execution_count": 54,
     "metadata": {},
     "output_type": "execute_result"
    }
   ],
   "source": [
    "rho_Nb75K*L_slug_1_2*0.1/(W_slug_1_2*0.01*H_slug_1_2) * 1000  \n",
    "# R_unknown_slug1_2_theory @liquid N2"
   ]
  },
  {
   "cell_type": "code",
   "execution_count": 55,
   "id": "furnished-citizen",
   "metadata": {},
   "outputs": [
    {
     "data": {
      "text/plain": [
       "1.8932242990654203e-05"
      ]
     },
     "execution_count": 55,
     "metadata": {},
     "output_type": "execute_result"
    }
   ],
   "source": [
    "11.1*10**(-3)*(W_slug_1_2*0.01*H_slug_1_2)/(L_slug_1_2*0.1)   \n",
    "# calculated resistivity of Nb_unknown_slug1_1 at room temp"
   ]
  },
  {
   "cell_type": "markdown",
   "id": "handed-rapid",
   "metadata": {},
   "source": [
    "## Unknown_plate_1"
   ]
  },
  {
   "cell_type": "code",
   "execution_count": 56,
   "id": "correct-tennessee",
   "metadata": {},
   "outputs": [],
   "source": [
    "W_unknown_plate_1=3.05   # mm"
   ]
  },
  {
   "cell_type": "code",
   "execution_count": 57,
   "id": "latter-latitude",
   "metadata": {},
   "outputs": [],
   "source": [
    "L_unknown_plate_1=102.53"
   ]
  },
  {
   "cell_type": "code",
   "execution_count": 58,
   "id": "based-force",
   "metadata": {},
   "outputs": [],
   "source": [
    "H_unknown_plate_1=0.77"
   ]
  },
  {
   "cell_type": "code",
   "execution_count": 60,
   "id": "purple-legislation",
   "metadata": {},
   "outputs": [
    {
     "data": {
      "text/plain": [
       "6.330359804130296"
      ]
     },
     "execution_count": 60,
     "metadata": {},
     "output_type": "execute_result"
    }
   ],
   "source": [
    "rho_Nb295K*L_unknown_plate_1*0.1/(W_unknown_plate_1*0.01*H_unknown_plate_1) * 1000  \n",
    "# R_unknown_plate_1_theory @room temp"
   ]
  },
  {
   "cell_type": "code",
   "execution_count": 61,
   "id": "delayed-elimination",
   "metadata": {},
   "outputs": [
    {
     "data": {
      "text/plain": [
       "1.6589908452203534"
      ]
     },
     "execution_count": 61,
     "metadata": {},
     "output_type": "execute_result"
    }
   ],
   "source": [
    "rho_Nb75K*L_unknown_plate_1*0.1/(W_unknown_plate_1*0.01*H_unknown_plate_1) * 1000  \n",
    "# R_unknown_plate_1_theory @liquid N2"
   ]
  },
  {
   "cell_type": "code",
   "execution_count": 63,
   "id": "imported-dubai",
   "metadata": {},
   "outputs": [
    {
     "data": {
      "text/plain": [
       "1.5644450404759582e-05"
      ]
     },
     "execution_count": 63,
     "metadata": {},
     "output_type": "execute_result"
    }
   ],
   "source": [
    "6.83*10**(-3)*(W_unknown_plate_1*0.01*H_unknown_plate_1)/(L_unknown_plate_1*0.1)   \n",
    "# calculated resistivity of Nb_unknown_plate_1 at room temp"
   ]
  },
  {
   "cell_type": "code",
   "execution_count": null,
   "id": "binary-draft",
   "metadata": {},
   "outputs": [],
   "source": []
  },
  {
   "cell_type": "code",
   "execution_count": null,
   "id": "suitable-negotiation",
   "metadata": {},
   "outputs": [],
   "source": []
  }
 ],
 "metadata": {
  "kernelspec": {
   "display_name": "Python 3",
   "language": "python",
   "name": "python3"
  },
  "language_info": {
   "codemirror_mode": {
    "name": "ipython",
    "version": 3
   },
   "file_extension": ".py",
   "mimetype": "text/x-python",
   "name": "python",
   "nbconvert_exporter": "python",
   "pygments_lexer": "ipython3",
   "version": "3.8.7"
  }
 },
 "nbformat": 4,
 "nbformat_minor": 5
}
